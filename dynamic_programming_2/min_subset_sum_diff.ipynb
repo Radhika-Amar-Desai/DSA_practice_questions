{
 "cells": [
  {
   "cell_type": "code",
   "execution_count": 16,
   "metadata": {},
   "outputs": [],
   "source": [
    "from collections import defaultdict\n",
    "\n",
    "def get_count_of_all_possible_subset_sum(nums: list) -> int:\n",
    "    dp = defaultdict(int)\n",
    "    dp = {0: 1}\n",
    "    for num in nums:\n",
    "        new_dp = defaultdict(int)\n",
    "        for subset_sum in dp:\n",
    "            new_dp[subset_sum + num] += dp[subset_sum]\n",
    "            new_dp[subset_sum] += dp[subset_sum]\n",
    "        dp = new_dp\n",
    "    return dp\n"
   ]
  },
  {
   "cell_type": "code",
   "execution_count": 17,
   "metadata": {},
   "outputs": [],
   "source": [
    "def min_subset_sum_diff ( nums : list ) -> int:\n",
    "    \n",
    "    dp = get_count_of_all_possible_subset_sum ( nums )\n",
    "    \n",
    "    all_subset_sums = list ( dp.keys() )\n",
    "    all_subset_sums.sort()\n",
    "\n",
    "    n = len ( all_subset_sums )\n",
    "\n",
    "    return abs ( sum ( nums ) - 2 * all_subset_sums [ n // 2 ] ) "
   ]
  },
  {
   "cell_type": "code",
   "execution_count": 18,
   "metadata": {},
   "outputs": [],
   "source": [
    "def get_count_min_subset_num_diff ( nums : list, target : int ) -> int:\n",
    "    dp = get_count_of_all_possible_subset_sum ( nums )\n",
    "    \n",
    "    print ( dp )\n",
    "\n",
    "    all_subset_sums = list ( dp.keys() )\n",
    "\n",
    "    return sum ( [ dp[ subset_sum ] for subset_sum in all_subset_sums if abs(sum ( nums ) - 2 * subset_sum) == abs(target) ] )\n"
   ]
  },
  {
   "cell_type": "code",
   "execution_count": 19,
   "metadata": {},
   "outputs": [
    {
     "name": "stdout",
     "output_type": "stream",
     "text": [
      "defaultdict(<class 'int'>, {5: 1, 4: 5, 3: 10, 2: 10, 1: 5, 0: 1})\n"
     ]
    },
    {
     "data": {
      "text/plain": [
       "10"
      ]
     },
     "execution_count": 19,
     "metadata": {},
     "output_type": "execute_result"
    }
   ],
   "source": [
    "nums = [ 1, 1 , 1 , 1, 1]\n",
    "target = 3\n",
    "get_count_min_subset_num_diff ( nums , target )"
   ]
  },
  {
   "cell_type": "code",
   "execution_count": 20,
   "metadata": {},
   "outputs": [
    {
     "data": {
      "text/plain": [
       "'\\n1 + 1 + 1 + 1 - 1\\n1 + 1 + 1 - 1 + 1\\n1 + 1 - 1 + 1 + 1\\n1 - 1 + 1 + 1 + 1\\n-1+ 1 + 1 + 1 + 1\\n'"
      ]
     },
     "execution_count": 20,
     "metadata": {},
     "output_type": "execute_result"
    }
   ],
   "source": [
    "\"\"\"\n",
    "1 + 1 + 1 + 1 - 1\n",
    "1 + 1 + 1 - 1 + 1\n",
    "1 + 1 - 1 + 1 + 1\n",
    "1 - 1 + 1 + 1 + 1\n",
    "-1+ 1 + 1 + 1 + 1\n",
    "\"\"\" "
   ]
  },
  {
   "cell_type": "code",
   "execution_count": 21,
   "metadata": {},
   "outputs": [
    {
     "data": {
      "text/plain": [
       "990"
      ]
     },
     "execution_count": 21,
     "metadata": {},
     "output_type": "execute_result"
    }
   ],
   "source": [
    "nums = [-1000,10]\n",
    "min_subset_sum_diff ( nums )"
   ]
  }
 ],
 "metadata": {
  "kernelspec": {
   "display_name": "Python 3",
   "language": "python",
   "name": "python3"
  },
  "language_info": {
   "codemirror_mode": {
    "name": "ipython",
    "version": 3
   },
   "file_extension": ".py",
   "mimetype": "text/x-python",
   "name": "python",
   "nbconvert_exporter": "python",
   "pygments_lexer": "ipython3",
   "version": "3.9.18"
  }
 },
 "nbformat": 4,
 "nbformat_minor": 2
}
