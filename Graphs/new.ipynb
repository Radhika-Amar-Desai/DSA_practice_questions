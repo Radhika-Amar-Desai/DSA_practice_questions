{
 "cells": [
  {
   "cell_type": "code",
   "execution_count": 105,
   "metadata": {},
   "outputs": [],
   "source": [
    "from collections import defaultdict"
   ]
  },
  {
   "cell_type": "code",
   "execution_count": 106,
   "metadata": {},
   "outputs": [],
   "source": [
    "from collections import deque, defaultdict\n",
    "\n",
    "def has_cycle(graph):\n",
    "    visited = set()\n",
    "    parent = {}\n",
    "    queue = deque()\n",
    "\n",
    "    start_node = 0\n",
    "    # if start_node not in visited:\n",
    "    queue.append(start_node)\n",
    "    visited.add(start_node)\n",
    "    parent[start_node] = None\n",
    "\n",
    "    while queue:\n",
    "        node = queue.popleft()\n",
    "\n",
    "        for neighbor in graph[node]:\n",
    "                if neighbor not in visited:\n",
    "                    visited.add(neighbor)\n",
    "                    parent[neighbor] = node\n",
    "                    queue.append(neighbor)\n",
    "                elif neighbor != parent[node]:\n",
    "                    return True\n",
    "    return False\n"
   ]
  },
  {
   "cell_type": "code",
   "execution_count": 107,
   "metadata": {},
   "outputs": [],
   "source": [
    "graph = {0: {1}, 1: {2}, 2: {}}"
   ]
  },
  {
   "cell_type": "code",
   "execution_count": 108,
   "metadata": {},
   "outputs": [
    {
     "data": {
      "text/plain": [
       "False"
      ]
     },
     "execution_count": 108,
     "metadata": {},
     "output_type": "execute_result"
    }
   ],
   "source": [
    "has_cycle(graph)"
   ]
  },
  {
   "cell_type": "code",
   "execution_count": 109,
   "metadata": {},
   "outputs": [],
   "source": [
    "def has_cycle(graph):\n",
    "    queue = []\n",
    "    visited = set()\n",
    "    parent = {}\n",
    "\n",
    "    start_node = 0\n",
    "\n",
    "    queue.append(start_node)\n",
    "    visited.add(start_node)\n",
    "    parent[start_node] = None\n",
    "\n",
    "    while queue:\n",
    "        node = queue.pop(0)\n",
    "\n",
    "        for neighbour in graph[node]:\n",
    "            \n",
    "            if neighbour not in visited:\n",
    "                parent[neighbour] = node\n",
    "                visited.add(neighbour)\n",
    "                queue.append(neighbour)\n",
    "            \n",
    "            elif neighbour != parent[node]:\n",
    "                return True\n",
    "            \n",
    "    return False"
   ]
  },
  {
   "cell_type": "code",
   "execution_count": 110,
   "metadata": {},
   "outputs": [
    {
     "data": {
      "text/plain": [
       "False"
      ]
     },
     "execution_count": 110,
     "metadata": {},
     "output_type": "execute_result"
    }
   ],
   "source": [
    "has_cycle(graph)"
   ]
  }
 ],
 "metadata": {
  "kernelspec": {
   "display_name": "Python 3",
   "language": "python",
   "name": "python3"
  },
  "language_info": {
   "codemirror_mode": {
    "name": "ipython",
    "version": 3
   },
   "file_extension": ".py",
   "mimetype": "text/x-python",
   "name": "python",
   "nbconvert_exporter": "python",
   "pygments_lexer": "ipython3",
   "version": "3.9.18"
  }
 },
 "nbformat": 4,
 "nbformat_minor": 2
}
