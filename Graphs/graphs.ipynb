{
 "cells": [
  {
   "cell_type": "code",
   "execution_count": 54,
   "metadata": {},
   "outputs": [],
   "source": [
    "#Creating graphs\n",
    "from collections import defaultdict\n",
    "\n",
    "class Graph:\n",
    "    def __init__(self) -> None:\n",
    "        self.graph = defaultdict(set)\n",
    "\n",
    "    def add_edge(self, node, neighbour):\n",
    "        self.graph[node].add(neighbour)\n",
    "        #self.graph[neighbour].add(node)\n",
    "\n",
    "    def get_eddges(self):\n",
    "        return [(node, neighbour) for node in self.graph for neighbour in self.graph[node]]\n",
    "    \n",
    "    def bfs(self, source):\n",
    "        \n",
    "        queue = []\n",
    "        visited = [0 for _ in range(max(self.graph.keys()) + 1)]\n",
    "\n",
    "        queue.append(source)\n",
    "        nodes = []\n",
    "\n",
    "        while queue:\n",
    "            source = queue.pop(0)\n",
    "\n",
    "            if source not in nodes:\n",
    "                nodes.append(source)\n",
    "                visited[neighbour] = 1\n",
    "\n",
    "            for neighbour in self.graph[source]:\n",
    "                \n",
    "                if visited[neighbour]:\n",
    "                    visited[neighbour] += 1\n",
    "\n",
    "                if not visited[neighbour] and neighbour not in nodes:\n",
    "\n",
    "                    queue.append(neighbour)\n",
    "                    nodes.append(neighbour)\n",
    "                    visited[neighbour] = 1\n",
    "        print(visited)\n",
    "        return nodes\n",
    "    \n",
    "    def dfs(self, source):\n",
    "        visited = set()\n",
    "\n",
    "        nodes_visited = []\n",
    "\n",
    "        def dfs_helper(source):\n",
    "\n",
    "            if len(visited) == len(self.graph):\n",
    "                return\n",
    "\n",
    "            for neighbour in self.graph[source]:\n",
    "\n",
    "                if neighbour not in visited:\n",
    "\n",
    "                    visited.add(neighbour)\n",
    "                    nodes_visited.append(neighbour)\n",
    "                    dfs_helper(neighbour)\n",
    "        \n",
    "        dfs_helper(source)\n",
    "\n",
    "        return nodes_visited\n",
    "    \n",
    "    def detect_cycle(self, source):\n",
    "\n",
    "        queue = []\n",
    "        visited = [0 for _ in range(max(self.graph.keys()) + 1)]\n",
    "\n",
    "        queue.append(source)\n",
    "        nodes = []\n",
    "\n",
    "        while queue:\n",
    "            source = queue.pop(0)\n",
    "\n",
    "            if source not in nodes:\n",
    "                nodes.append(source)\n",
    "                visited[source] = 1\n",
    "\n",
    "            for neighbour in self.graph[source]:\n",
    "                \n",
    "                if visited[neighbour]: visited[neighbour] += 1\n",
    "\n",
    "                if not visited[neighbour] and neighbour not in nodes:\n",
    "\n",
    "                    queue.append(neighbour)\n",
    "                    nodes.append(neighbour)\n",
    "                    visited[neighbour] = 1\n",
    "\n",
    "        print(visited)\n",
    "\n",
    "        return any([ num_of_visits for num_of_visits in visited if num_of_visits > 1 ])\n",
    "\n",
    "    def get_length(self):\n",
    "        print(self.graph)\n",
    "        return len(self.graph)       \n"
   ]
  },
  {
   "cell_type": "code",
   "execution_count": 55,
   "metadata": {},
   "outputs": [
    {
     "data": {
      "text/plain": [
       "[1, 0, 2]"
      ]
     },
     "execution_count": 55,
     "metadata": {},
     "output_type": "execute_result"
    }
   ],
   "source": [
    "graph = Graph()\n",
    "\n",
    "graph.add_edge(0, 1) \n",
    "graph.add_edge(3, 2)\n",
    "graph.add_edge(0, 2) \n",
    "graph.add_edge(3, 1)\n",
    "graph.add_edge(1, 0)\n",
    "\n",
    "graph.get_eddges()\n",
    "graph.dfs(0)"
   ]
  },
  {
   "cell_type": "code",
   "execution_count": 56,
   "metadata": {},
   "outputs": [],
   "source": [
    "def validPath(n: int, edges: list, source: int, destination: int) -> bool:\n",
    "        visited = [False for _ in range(n)]\n",
    "        \n",
    "        def find_neighbours(edges, node):\n",
    "            nonlocal visited\n",
    "            \n",
    "            neighbours = [ edge[1] for edge in edges if node == edge[0] ]\n",
    "            \n",
    "            for node in neighbours:\n",
    "                visited[node] = True\n",
    "            \n",
    "            return neighbours\n",
    "\n",
    "        neighbours = [source]\n",
    "        visited[source] = True\n",
    "        destinations = []\n",
    "\n",
    "        while not all(visited):\n",
    "            for node in neighbours:\n",
    "\n",
    "                neighbours = find_neighbours(edges, node)\n",
    "                destinations.extend(neighbours)\n",
    "    \n",
    "        return destination in destinations"
   ]
  },
  {
   "cell_type": "code",
   "execution_count": 57,
   "metadata": {},
   "outputs": [
    {
     "data": {
      "text/plain": [
       "True"
      ]
     },
     "execution_count": 57,
     "metadata": {},
     "output_type": "execute_result"
    }
   ],
   "source": [
    "validPath(3, [[0,1],[1,2],[2,0]], 0, 2)"
   ]
  },
  {
   "cell_type": "code",
   "execution_count": 58,
   "metadata": {},
   "outputs": [],
   "source": [
    "def bellman_ford(graph, source):\n",
    "    # Step 1: Initialize distances from source to all other vertices\n",
    "    distance = {v: float('inf') for v in graph}\n",
    "    distance[source] = 0\n",
    "    \n",
    "    # Step 2: Relax all edges |V| - 1 times\n",
    "    for _ in range(len(graph) - 1):\n",
    "        for u in graph:\n",
    "            for v, weight in graph[u]:\n",
    "                if distance[u] + weight < distance[v]:\n",
    "                    distance[v] = distance[u] + weight\n",
    "    \n",
    "    # Step 3: Check for negative-weight cycles\n",
    "    for u in graph:\n",
    "        for v, weight in graph[u]:\n",
    "            if distance[u] + weight < distance[v]:\n",
    "                return \"Graph contains a negative-weight cycle\"\n",
    "    \n",
    "    return distance\n"
   ]
  },
  {
   "cell_type": "code",
   "execution_count": 59,
   "metadata": {},
   "outputs": [],
   "source": [
    "def bellman_ford_matrix(matrix, source):\n",
    "    # Step 1: Initialize distances from source to all other vertices\n",
    "    V = len(matrix)  # Number of vertices in the graph\n",
    "    distance = [float('inf')] * V\n",
    "    distance[source] = 0\n",
    "    \n",
    "    # Step 2: Relax all edges |V| - 1 times\n",
    "    for _ in range(V - 1):\n",
    "        for u in range(V):\n",
    "            for v in range(V):\n",
    "                if matrix[u][v] != float('inf'):  # Check if there is an edge from u to v\n",
    "                    if distance[u] + matrix[u][v] < distance[v]:\n",
    "                        distance[v] = distance[u] + matrix[u][v]\n",
    "    \n",
    "    # Step 3: Check for negative-weight cycles\n",
    "    for u in range(V):\n",
    "        for v in range(V):\n",
    "            if matrix[u][v] != float('inf'):  # Check if there is an edge from u to v\n",
    "                if distance[u] + matrix[u][v] < distance[v]:\n",
    "                    return \"Graph contains a negative-weight cycle\"\n",
    "    \n",
    "    return distance\n"
   ]
  },
  {
   "cell_type": "code",
   "execution_count": 60,
   "metadata": {},
   "outputs": [
    {
     "name": "stdout",
     "output_type": "stream",
     "text": [
      "{'0': 0, '1': -1, '2': 2, '3': -2, '4': 1}\n"
     ]
    }
   ],
   "source": [
    "graph = {\n",
    "    '0': [('1', -1), ('2', 4)],\n",
    "    '1': [('2', 3), ('3', 2), ('4', 2)],\n",
    "    '2': [],\n",
    "    '3': [('1', 1), ('2', 5)],\n",
    "    '4': [('3', -3)]\n",
    "}\n",
    "\n",
    "source = '0'\n",
    "distances = bellman_ford(graph, source)\n",
    "print(distances)\n"
   ]
  },
  {
   "cell_type": "code",
   "execution_count": 61,
   "metadata": {},
   "outputs": [
    {
     "name": "stdout",
     "output_type": "stream",
     "text": [
      "[0, -1, 2, -2, 1]\n"
     ]
    }
   ],
   "source": [
    "i = float('inf')\n",
    "matrix = [\n",
    "    [0, -1, 4, i, i],\n",
    "    [i, i, 3, 2, 2],\n",
    "    [i, i, i, i, i],\n",
    "    [i, 1, 5, i, i],\n",
    "    [i, i, i, -3, i]\n",
    "]\n",
    "\n",
    "source = 0\n",
    "distances = bellman_ford_matrix(matrix, source)\n",
    "print(distances)\n"
   ]
  },
  {
   "cell_type": "code",
   "execution_count": null,
   "metadata": {},
   "outputs": [],
   "source": []
  }
 ],
 "metadata": {
  "kernelspec": {
   "display_name": "Python 3",
   "language": "python",
   "name": "python3"
  },
  "language_info": {
   "codemirror_mode": {
    "name": "ipython",
    "version": 3
   },
   "file_extension": ".py",
   "mimetype": "text/x-python",
   "name": "python",
   "nbconvert_exporter": "python",
   "pygments_lexer": "ipython3",
   "version": "3.9.18"
  }
 },
 "nbformat": 4,
 "nbformat_minor": 2
}
