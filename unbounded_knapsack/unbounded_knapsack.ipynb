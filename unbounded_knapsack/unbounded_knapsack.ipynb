{
 "cells": [
  {
   "cell_type": "code",
   "execution_count": 1,
   "metadata": {},
   "outputs": [],
   "source": [
    "class Item:\n",
    "    def __init__(self , price, weight) -> None:\n",
    "        self.price = price\n",
    "        self.weight = weight"
   ]
  },
  {
   "cell_type": "code",
   "execution_count": 2,
   "metadata": {},
   "outputs": [],
   "source": [
    "class Item:\n",
    "    def __init__(self, weight, price):\n",
    "        self.weight = weight\n",
    "        self.price = price\n",
    "\n",
    "def unbounded_knapsack(items: list, capacity: int):\n",
    "    # Base case: no capacity left\n",
    "    if capacity == 0:\n",
    "        return 0\n",
    "    \n",
    "    max_value = 0\n",
    "    \n",
    "    # Try including each item as many times as possible\n",
    "    for item in items:\n",
    "        if item.weight <= capacity:\n",
    "            max_value = max(max_value, item.price + unbounded_knapsack(items, capacity - item.weight))\n",
    "    \n",
    "    return max_value\n",
    "\n",
    "def dp_unbounded_knapsack ( items : list, capacity : int ):\n",
    "    dp = [ 0 for _ in range ( capacity + 1 ) ] \n",
    "\n",
    "    for item in items:\n",
    "        for c in range ( capacity + 1 ):\n",
    "\n",
    "            if c - item.weight >= 0:\n",
    "                dp [ c ] = max ( dp [ c ] , item.price + dp [ c - item.weight ] )\n",
    "\n",
    "    return dp [ capacity ]\n"
   ]
  },
  {
   "cell_type": "code",
   "execution_count": 3,
   "metadata": {},
   "outputs": [],
   "source": [
    "def subset_sum( nums : list, target : int ):\n",
    "    dp = [ [ 0 for _ in range ( target + 1 ) ] for _ in range ( len ( nums ) + 1 ) ]\n",
    "    \n",
    "    for num_index in range ( len ( nums ) + 1 ):\n",
    "        for t in range ( target + 1 ):\n",
    "\n",
    "            if num_index == 0:\n",
    "                dp [ num_index ] [ t ] = 0\n",
    "\n",
    "            if t == 0:\n",
    "                dp [ num_index ] [ t ] = 1\n",
    "\n",
    "    for num_index in range ( 1 , len ( nums ) + 1 ) :\n",
    "        for t in range ( 1, target + 1 ):\n",
    "\n",
    "            if t - nums [ num_index - 1 ] >= 0:\n",
    "                dp [ num_index ] [ t ] = dp [ num_index ] [ t - nums [ num_index - 1 ] ] + dp [ num_index - 1 ] [ t ]\n",
    "\n",
    "            else:\n",
    "                dp [ num_index ] [ t ] = dp [ num_index - 1 ] [ t ]\n",
    "\n",
    "    return dp [ len ( nums ) ] [ target ]"
   ]
  },
  {
   "cell_type": "code",
   "execution_count": 4,
   "metadata": {},
   "outputs": [],
   "source": [
    "def unbounded_subset_sum( nums : list, target : int ):\n",
    "    dp = [ 0 for _ in range ( target + 1 ) ] \n",
    "    \n",
    "    for t in range ( target + 1 ):\n",
    "        if t == 0:\n",
    "            dp [ t ] = 1\n",
    "\n",
    "    for t in range ( target + 1 ):\n",
    "        for num in nums:\n",
    "            if t - num >= 0:\n",
    "                dp [ t ] = dp [ t - num ] + dp [ t ]\n",
    "\n",
    "    return dp [ target ]"
   ]
  },
  {
   "cell_type": "code",
   "execution_count": 7,
   "metadata": {},
   "outputs": [
    {
     "data": {
      "text/plain": [
       "4"
      ]
     },
     "execution_count": 7,
     "metadata": {},
     "output_type": "execute_result"
    }
   ],
   "source": [
    "nums = [ 4 , 5 , 12, 3 ]\n",
    "target = 12\n",
    "subset_sum ( nums , target )"
   ]
  },
  {
   "cell_type": "code",
   "execution_count": 8,
   "metadata": {},
   "outputs": [
    {
     "data": {
      "text/plain": [
       "400"
      ]
     },
     "execution_count": 8,
     "metadata": {},
     "output_type": "execute_result"
    }
   ],
   "source": [
    "items = [ Item ( weight=2 , price=100 ) ,  Item ( weight=3, price=200 ), Item ( weight=5, price=90 )  ]\n",
    "dp_unbounded_knapsack ( items, capacity = 7)"
   ]
  }
 ],
 "metadata": {
  "kernelspec": {
   "display_name": "Python 3",
   "language": "python",
   "name": "python3"
  },
  "language_info": {
   "codemirror_mode": {
    "name": "ipython",
    "version": 3
   },
   "file_extension": ".py",
   "mimetype": "text/x-python",
   "name": "python",
   "nbconvert_exporter": "python",
   "pygments_lexer": "ipython3",
   "version": "3.9.18"
  }
 },
 "nbformat": 4,
 "nbformat_minor": 2
}
